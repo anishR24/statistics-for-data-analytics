{
  "nbformat": 4,
  "nbformat_minor": 0,
  "metadata": {
    "colab": {
      "provenance": []
    },
    "kernelspec": {
      "name": "ir",
      "display_name": "R"
    },
    "language_info": {
      "name": "R"
    }
  },
  "cells": [
    {
      "cell_type": "markdown",
      "source": [
        "# CA1 for B9DA101 Group C\n",
        "## Members -  \n",
        "* Anish Rao: 20066423\n",
        "* Sharath Chandra Chavali: 20058721\n",
        "* Adithya Durgapu: 20054683\n",
        "* Shruthi Ravi: 20068068      "
      ],
      "metadata": {
        "id": "xKw28pOAWecw"
      }
    },
    {
      "cell_type": "markdown",
      "source": [
        "## Setup"
      ],
      "metadata": {
        "id": "iYo5Xe7VYmut"
      }
    },
    {
      "cell_type": "code",
      "source": [
        "\n",
        "library(ggplot2)\n",
        "data(\"diamonds\")\n",
        "str(diamonds)\n",
        "cat(rep(\"-\", 80), sep=\"\")\n",
        "summary(diamonds)"
      ],
      "metadata": {
        "colab": {
          "base_uri": "https://localhost:8080/",
          "height": 642
        },
        "id": "1wZ9iBEWWdOV",
        "outputId": "d3bcadc8-3924-4476-c8dc-d76467287128"
      },
      "execution_count": 14,
      "outputs": [
        {
          "output_type": "stream",
          "name": "stdout",
          "text": [
            "tibble [53,940 × 10] (S3: tbl_df/tbl/data.frame)\n",
            " $ carat  : num [1:53940] 0.23 0.21 0.23 0.29 0.31 0.24 0.24 0.26 0.22 0.23 ...\n",
            " $ cut    : Ord.factor w/ 5 levels \"Fair\"<\"Good\"<..: 5 4 2 4 2 3 3 3 1 3 ...\n",
            " $ color  : Ord.factor w/ 7 levels \"D\"<\"E\"<\"F\"<\"G\"<..: 2 2 2 6 7 7 6 5 2 5 ...\n",
            " $ clarity: Ord.factor w/ 8 levels \"I1\"<\"SI2\"<\"SI1\"<..: 2 3 5 4 2 6 7 3 4 5 ...\n",
            " $ depth  : num [1:53940] 61.5 59.8 56.9 62.4 63.3 62.8 62.3 61.9 65.1 59.4 ...\n",
            " $ table  : num [1:53940] 55 61 65 58 58 57 57 55 61 61 ...\n",
            " $ price  : int [1:53940] 326 326 327 334 335 336 336 337 337 338 ...\n",
            " $ x      : num [1:53940] 3.95 3.89 4.05 4.2 4.34 3.94 3.95 4.07 3.87 4 ...\n",
            " $ y      : num [1:53940] 3.98 3.84 4.07 4.23 4.35 3.96 3.98 4.11 3.78 4.05 ...\n",
            " $ z      : num [1:53940] 2.43 2.31 2.31 2.63 2.75 2.48 2.47 2.53 2.49 2.39 ...\n",
            "--------------------------------------------------------------------------------"
          ]
        },
        {
          "output_type": "display_data",
          "data": {
            "text/plain": [
              "     carat               cut        color        clarity          depth      \n",
              " Min.   :0.2000   Fair     : 1610   D: 6775   SI1    :13065   Min.   :43.00  \n",
              " 1st Qu.:0.4000   Good     : 4906   E: 9797   VS2    :12258   1st Qu.:61.00  \n",
              " Median :0.7000   Very Good:12082   F: 9542   SI2    : 9194   Median :61.80  \n",
              " Mean   :0.7979   Premium  :13791   G:11292   VS1    : 8171   Mean   :61.75  \n",
              " 3rd Qu.:1.0400   Ideal    :21551   H: 8304   VVS2   : 5066   3rd Qu.:62.50  \n",
              " Max.   :5.0100                     I: 5422   VVS1   : 3655   Max.   :79.00  \n",
              "                                    J: 2808   (Other): 2531                  \n",
              "     table           price             x                y         \n",
              " Min.   :43.00   Min.   :  326   Min.   : 0.000   Min.   : 0.000  \n",
              " 1st Qu.:56.00   1st Qu.:  950   1st Qu.: 4.710   1st Qu.: 4.720  \n",
              " Median :57.00   Median : 2401   Median : 5.700   Median : 5.710  \n",
              " Mean   :57.46   Mean   : 3933   Mean   : 5.731   Mean   : 5.735  \n",
              " 3rd Qu.:59.00   3rd Qu.: 5324   3rd Qu.: 6.540   3rd Qu.: 6.540  \n",
              " Max.   :95.00   Max.   :18823   Max.   :10.740   Max.   :58.900  \n",
              "                                                                  \n",
              "       z         \n",
              " Min.   : 0.000  \n",
              " 1st Qu.: 2.910  \n",
              " Median : 3.530  \n",
              " Mean   : 3.539  \n",
              " 3rd Qu.: 4.040  \n",
              " Max.   :31.800  \n",
              "                 "
            ]
          },
          "metadata": {}
        }
      ]
    },
    {
      "cell_type": "markdown",
      "source": [
        "## QUESTION 1"
      ],
      "metadata": {
        "id": "Xo5HJKrEYpa0"
      }
    },
    {
      "cell_type": "markdown",
      "source": [
        "### a) Describe the dataset using appropriate plots/curves/charts,…"
      ],
      "metadata": {
        "id": "8twawftlYpSR"
      }
    },
    {
      "cell_type": "code",
      "source": [
        "ggplot(diamonds, aes(x = price)) +\n",
        "  geom_histogram(binwidth = 500, fill = \"skyblue\", color = \"black\") +\n",
        "  labs(title = \"Histogram of Diamond Prices\", x = \"Price\", y = \"Frequency\")\n",
        "\n",
        "ggplot(diamonds, aes(x = carat)) +\n",
        "  geom_histogram(binwidth = 0.1, fill = \"tomato\", color = \"black\") +\n",
        "  labs(title = \"Histogram of Diamond Carat\", x = \"Carat\", y = \"Frequency\")\n",
        "\n",
        "ggplot(diamonds, aes(x = cut)) +\n",
        "  geom_bar(fill = \"lightgreen\") +\n",
        "  labs(title = \"Distribution of Diamond Cut\", x = \"Cut\", y = \"Count\")\n",
        "\n",
        "ggplot(diamonds, aes(x = color)) +\n",
        "  geom_bar(fill = \"pink\") +\n",
        "  labs(title = \"Distribution of Diamond Color\", x = \"Color\", y = \"Count\")"
      ],
      "metadata": {
        "colab": {
          "base_uri": "https://localhost:8080/",
          "height": 1000
        },
        "id": "bp1deT9zZDNZ",
        "outputId": "712bb075-4196-4325-e621-89f065e23c50"
      },
      "execution_count": 15,
      "outputs": [
        {
          "output_type": "display_data",
          "data": {
            "text/plain": [
              "plot without title"
            ],
            "image/png": "[encoded data removed]"
          },
          "metadata": {
            "image/png": {
              "width": 420,
              "height": 420
            }
          }
        },
        {
          "output_type": "display_data",
          "data": {
            "text/plain": [
              "plot without title"
            ],
            "image/png": "[encoded data removed]"
          },
          "metadata": {
            "image/png": {
              "width": 420,
              "height": 420
            }
          }
        },
        {
          "output_type": "display_data",
          "data": {
            "text/plain": [
              "plot without title"
            ],
            "image/png": "[encoded data removed]"
          },
          "metadata": {
            "image/png": {
              "width": 420,
              "height": 420
            }
          }
        },
        {
          "output_type": "display_data",
          "data": {
            "text/plain": [
              "plot without title"
            ],
            "image/png": "[encoded data removed]"
          },
          "metadata": {
            "image/png": {
              "width": 420,
              "height": 420
            }
          }
        }
      ]
    },
    {
      "cell_type": "markdown",
      "source": [
        "### b) Consider one of continuous attributes, and compute central and variational measures."
      ],
      "metadata": {
        "id": "fu8EVQdhY2kI"
      }
    },
    {
      "cell_type": "code",
      "source": [
        "price = diamonds$price\n",
        "price_mean = mean(price)\n",
        "price_median = median(price)\n",
        "price_range = range(price)\n",
        "price_variance = var(price)\n",
        "price_sd = sd(price)\n",
        "price_IQR = IQR(price)\n",
        "\n",
        "cat(\"Central Measures for Price: \\nMean:\", price_mean,\n",
        "    \"\\nMedian:\", price_median,\n",
        "    \"\\n\\nVariational Measures for Price: \\nRange:\",\n",
        "    price_range[1], \"to\", price_range[2],\n",
        "    \"\\nVariance:\", price_variance,\n",
        "    \"\\nStandard Deviation:\", price_sd,\n",
        "    \"\\nIQR:\", price_IQR)"
      ],
      "metadata": {
        "colab": {
          "base_uri": "https://localhost:8080/"
        },
        "id": "EGPvddzIZDws",
        "outputId": "ee825099-059a-40a2-cabd-ac3daffd2d83"
      },
      "execution_count": 16,
      "outputs": [
        {
          "output_type": "stream",
          "name": "stdout",
          "text": [
            "Central Measures for Price: \n",
            "Mean: 3932.8 \n",
            "Median: 2401 \n",
            "\n",
            "Variational Measures for Price: \n",
            "Range: 326 to 18823 \n",
            "Variance: 15915629 \n",
            "Standard Deviation: 3989.44 \n",
            "IQR: 4374.25"
          ]
        }
      ]
    },
    {
      "cell_type": "markdown",
      "source": [
        "### c) For a particular variable of the dataset, use Chebyshev's rule, and propose one-sigma interval. Based on your proposed interval, specify the outliers if any."
      ],
      "metadata": {
        "id": "tg3lPdTeY3Ep"
      }
    },
    {
      "cell_type": "code",
      "source": [
        "lower_bound = price_mean - price_sd\n",
        "upper_bound = price_mean + price_sd\n",
        "cat(\"One-sigma interval (Mean ± SD): [\", lower_bound, \",\", upper_bound, \"]\\n\")\n",
        "\n",
        "price_outliers = diamonds[diamonds$price < lower_bound\n",
        "                          | diamonds$price > upper_bound, ]\n",
        "cat(\"Number of outliers:\", nrow(price_outliers), \"\\n\")"
      ],
      "metadata": {
        "colab": {
          "base_uri": "https://localhost:8080/"
        },
        "id": "3lvG0q9RZEKB",
        "outputId": "3ca9878f-dfae-4148-ec23-59606ee34a54"
      },
      "execution_count": 17,
      "outputs": [
        {
          "output_type": "stream",
          "name": "stdout",
          "text": [
            "One-sigma interval (Mean ± SD): [ -56.64002 , 7922.239 ]\n",
            "Number of outliers: 7715 \n"
          ]
        }
      ]
    },
    {
      "cell_type": "markdown",
      "source": [
        "### d) Explain how the box-plot technique can be used to detect outliers. Apply this technique for one attribute of the dataset."
      ],
      "metadata": {
        "id": "JFYYmh80Y3Zg"
      }
    },
    {
      "cell_type": "code",
      "source": [
        "first_quartile = quantile(diamonds$price, 0.25)\n",
        "third_quartile = quantile(diamonds$price, 0.75)\n",
        "price_IQR = IQR(diamonds$price)\n",
        "\n",
        "lower_limit = first_quartile - 1.5 * price_IQR\n",
        "upper_limit = third_quartile + 1.5 * price_IQR\n",
        "\n",
        "price_outlier_values = diamonds$price[diamonds$price < lower_limit |\n",
        "                                        diamonds$price > upper_limit]\n",
        "num_outliers = length(price_outlier_values)\n",
        "if(num_outliers == 0) {\n",
        "  cat(\"No outliers detected using the boxplot method.\\n\")\n",
        "} else {\n",
        "  cat(\"Outliers detected using the boxplot method:\", num_outliers, \"\\n\")\n",
        "}\n",
        "\n",
        "boxplot(diamonds$price,\n",
        "        main = \"Boxplot for Diamond Prices\",\n",
        "        col = \"lightgreen\",\n",
        "        horizontal = TRUE,\n",
        "        xlab = \"Price\")"
      ],
      "metadata": {
        "colab": {
          "base_uri": "https://localhost:8080/",
          "height": 454
        },
        "id": "R9IiNfzUZElE",
        "outputId": "7680091e-e06b-4f13-b756-13d477391396"
      },
      "execution_count": 18,
      "outputs": [
        {
          "output_type": "stream",
          "name": "stdout",
          "text": [
            "Outliers detected using the boxplot method: 3540 \n"
          ]
        },
        {
          "output_type": "display_data",
          "data": {
            "text/plain": [
              "Plot with title “Boxplot for Diamond Prices”"
            ],
            "image/png": "[encoded data removed]"
          },
          "metadata": {
            "image/png": {
              "width": 420,
              "height": 420
            }
          }
        }
      ]
    },
    {
      "cell_type": "markdown",
      "source": [
        "## Question 2"
      ],
      "metadata": {
        "id": "gAvh3CtKZTQ0"
      }
    },
    {
      "cell_type": "markdown",
      "source": [
        "### a) Select four variables of the dataset and propose an appropriate probability model to quantify uncertainty of each variable."
      ],
      "metadata": {
        "id": "oCj5Ok3UaJpU"
      }
    },
    {
      "cell_type": "markdown",
      "source": [
        "To quantify uncertainty in the dataset, we select two continuous - price, carat and two\n",
        "categorical - cut, color variables.\n",
        "\n",
        "Probability Model Selection:\n",
        "\n",
        "Normal Distribution (For Continuous Variables - price, carat)\n",
        "* The Normal distribution is commonly used to model continuous numerical\n",
        "variables that vary around an average.\n",
        "* Price and carat both exhibit natural variations, making the Normal distribution a\n",
        "suitable choice for understanding their central tendency and dispersion.\n",
        "* The Normal model helps in making statistical inferences and probability\n",
        "estimations for these variables.\n",
        "\n",
        "\n",
        "Multinomial Distribution (For Categorical Variables - cut, color)\n",
        "* The Multinomial distribution is appropriate for categorical variables with multiple\n",
        "distinct categories.\n",
        "* Cut (Fair, Good, Very Good, Premium, Ideal) and color (D to J) both fall into this\n",
        "category\n",
        "* This model allows us to estimate the probability of each category occurring, helping\n",
        "in uncertainty quantification for these attributes."
      ],
      "metadata": {
        "id": "razQePYaarup"
      }
    },
    {
      "cell_type": "markdown",
      "source": [
        "### b) For each model in part (a), estimate the parameters of model."
      ],
      "metadata": {
        "id": "QvPGCnvfaNKl"
      }
    },
    {
      "cell_type": "code",
      "source": [
        "# Continuous Variables - Normal Model\n",
        "price_mean = mean(diamonds$price)\n",
        "price_sd = sd(diamonds$price)\n",
        "\n",
        "carat_mean = mean(diamonds$carat)\n",
        "carat_sd = sd(diamonds$carat)\n",
        "\n",
        "cat(\" Normal distribution parameters for Price:\\n\",\n",
        "    \"Mean:\", price_mean, \"\\n\", \"SD:\", price_sd, \"\\n\\n\",\n",
        "    \"Normal distribution parameters for Carat:\\n\",\n",
        "    \"Mean:\", carat_mean, \"\\n\", \"SD:\", carat_sd, \"\\n\\n\")\n",
        "\n",
        "# Categorical Variables - Multinomial Model\n",
        "cut_freq = table(diamonds$cut)\n",
        "cut_prob = prop.table(cut_freq)\n",
        "\n",
        "color_freq = table(diamonds$color)\n",
        "color_prob = prop.table(color_freq)\n",
        "\n",
        "cat(\"Estimated probabilities for Cut:\\n\"); print(cut_prob)\n",
        "cat(\"\\nEstimated probabilities for Color:\\n\"); print(color_prob)"
      ],
      "metadata": {
        "colab": {
          "base_uri": "https://localhost:8080/"
        },
        "id": "EGHC0WWjaNwo",
        "outputId": "e6f2a2bd-2555-42f4-ba2b-2de23a7ce476"
      },
      "execution_count": 19,
      "outputs": [
        {
          "output_type": "stream",
          "name": "stdout",
          "text": [
            " Normal distribution parameters for Price:\n",
            " Mean: 3932.8 \n",
            " SD: 3989.44 \n",
            "\n",
            " Normal distribution parameters for Carat:\n",
            " Mean: 0.7979397 \n",
            " SD: 0.4740112 \n",
            "\n",
            "Estimated probabilities for Cut:\n",
            "\n",
            "      Fair       Good  Very Good    Premium      Ideal \n",
            "0.02984798 0.09095291 0.22398962 0.25567297 0.39953652 \n",
            "\n",
            "Estimated probabilities for Color:\n",
            "\n",
            "         D          E          F          G          H          I          J \n",
            "0.12560252 0.18162773 0.17690026 0.20934372 0.15394883 0.10051910 0.05205784 \n"
          ]
        }
      ]
    },
    {
      "cell_type": "markdown",
      "source": [
        "### c) Express the way in which each model can be used for the predictive analytics, then find the prediction for each attribute."
      ],
      "metadata": {
        "id": "igiHHMSSaOKJ"
      }
    },
    {
      "cell_type": "code",
      "source": [
        "# Predictions for Continuous Variables\n",
        "predicted_price = price_mean\n",
        "predicted_carat = carat_mean\n",
        "cat(\"Predicted Price (expected value):\", predicted_price,\n",
        "    \"\\nPredicted Carat (expected value):\", predicted_carat, \"\\n\\n\")\n",
        "\n",
        "# Predictions for Categorical Variables\n",
        "predicted_cut = names(which.max(cut_prob))\n",
        "predicted_color = names(which.max(color_prob))\n",
        "cat(\"Predicted Cut (most common):\", predicted_cut,\n",
        "    \"\\nPredicted Color (most common):\", predicted_color)"
      ],
      "metadata": {
        "colab": {
          "base_uri": "https://localhost:8080/"
        },
        "id": "2Vd1B-0BaO0y",
        "outputId": "b7e41614-c04b-47e9-8092-e021c9172ba8"
      },
      "execution_count": 20,
      "outputs": [
        {
          "output_type": "stream",
          "name": "stdout",
          "text": [
            "Predicted Price (expected value): 3932.8 \n",
            "Predicted Carat (expected value): 0.7979397 \n",
            "\n",
            "Predicted Cut (most common): Ideal \n",
            "Predicted Color (most common): G"
          ]
        }
      ]
    },
    {
      "cell_type": "markdown",
      "source": [
        "## Question 3"
      ],
      "metadata": {
        "id": "EPlg3pYUZVjG"
      }
    },
    {
      "cell_type": "markdown",
      "source": [
        "### a) Consider two categorical variables of the dataset, develop a binary decision-making strategy to check whether two variables are independent at the significant level alpha=0.01."
      ],
      "metadata": {
        "id": "S_ZULFBjbEdY"
      }
    },
    {
      "cell_type": "markdown",
      "source": [
        "Null Hypothesis (Hₒ): The variables Cut and Color are independent (no relationship between them).\n",
        "\n",
        "Alternative Hypothesis (Hₐ): The variables Cut and Color are dependent (there is a relationship between them)."
      ],
      "metadata": {
        "id": "-2FIiT-KcrPY"
      }
    },
    {
      "cell_type": "code",
      "source": [
        "contingency_table = table(diamonds$cut, diamonds$color)\n",
        "chi_test = chisq.test(contingency_table)\n",
        "\n",
        "chi_stat = chi_test$statistic\n",
        "df = chi_test$parameter\n",
        "\n",
        "# critical value = qchisq(1 - alpha, df)\n",
        "critical_value = qchisq(0.99, df)\n",
        "\n",
        "cat(\"Chi-square Statistic:\", chi_stat,\n",
        "    \"\\nDegrees of Freedom:\", df,\n",
        "    \"\\nCritical Value (alpha = 0.01):\", critical_value, \"\\n\")\n",
        "\n",
        "if (chi_stat > critical_value) {\n",
        "  cat(\"Reject H₀: chi_stat =\", round(chi_stat, 2),\n",
        "      \">\", round(critical_value, 2),\n",
        "      \"; Cut and Color are dependent.\\n\")\n",
        "} else {\n",
        "  cat(\"Fail to reject H₀: chi_stat =\", round(chi_stat, 2),\n",
        "      \"<=\", round(critical_value, 2),\n",
        "      \"; insufficient evidence of dependency.\\n\")\n",
        "}"
      ],
      "metadata": {
        "colab": {
          "base_uri": "https://localhost:8080/"
        },
        "id": "gDujY6kibIBN",
        "outputId": "35efcca4-dae3-4ee8-bebe-51878347b99a"
      },
      "execution_count": 21,
      "outputs": [
        {
          "output_type": "stream",
          "name": "stdout",
          "text": [
            "Chi-square Statistic: 310.3179 \n",
            "Degrees of Freedom: 24 \n",
            "Critical Value (alpha = 0.01): 42.97982 \n",
            "Reject H₀: chi_stat = 310.32 > 42.98 ; Cut and Color are dependent.\n"
          ]
        }
      ]
    },
    {
      "cell_type": "markdown",
      "source": [
        "### b) Consider one categorical variable, apply goodness of fit test to evaluate whether a candidate set of probabilities can be appropriate to quantify the uncertainty of class frequency at the significant level alpha=0.05."
      ],
      "metadata": {
        "id": "2Xd7ffjEbISj"
      }
    },
    {
      "cell_type": "markdown",
      "source": [
        "The Goodness-of-Fit Test checks whether the observed distribution of a categorical variable (cut) follows an assumed probability distribution.\n",
        "\n",
        "Null Hypothesis (Hₒ): The observed frequencies of cut follows the expected probabilities.\n",
        "\n",
        "Alternative Hypothesis (Hₐ): They do not follow the expected probabilities."
      ],
      "metadata": {
        "id": "uvt3Fnu9bp7Q"
      }
    },
    {
      "cell_type": "code",
      "source": [
        "observed = table(diamonds$cut)\n",
        "n_levels = length(observed)\n",
        "candidate_prob = rep(1/n_levels, n_levels)\n",
        "\n",
        "gof = chisq.test(observed, p = candidate_prob)\n",
        "gof_stat = gof$statistic\n",
        "df = gof$parameter\n",
        "critical_value = qchisq(0.95, df)\n",
        "\n",
        "cat(\"Chi-square Statistic:\", round(gof_stat, 2),\n",
        "    \"\\nDegrees of Freedom:\", df,\n",
        "    \"\\nCritical Value (alpha = 0.05):\", round(critical_value, 2), \"\\n\")\n",
        "\n",
        "if (gof_stat > critical_value) {\n",
        "  cat(\"Reject H₀: gof_stat =\", round(gof_stat, 2),\n",
        "      \">\", round(critical_value, 2),\n",
        "      \"; the candidate probabilities do not fit the data.\\n\")\n",
        "} else {\n",
        "  cat(\"Fail to reject H₀: gof_stat =\", round(gof_stat, 2),\n",
        "      \"<=\", round(critical_value, 2),\n",
        "      \"; the candidate probabilities are appropriate.\\n\")\n",
        "}"
      ],
      "metadata": {
        "colab": {
          "base_uri": "https://localhost:8080/"
        },
        "id": "zcf8OgtubIpG",
        "outputId": "69d16994-7478-47a1-d0f5-47610e0992f5"
      },
      "execution_count": 22,
      "outputs": [
        {
          "output_type": "stream",
          "name": "stdout",
          "text": [
            "Chi-square Statistic: 22744.55 \n",
            "Degrees of Freedom: 4 \n",
            "Critical Value (alpha = 0.05): 9.49 \n",
            "Reject H₀: gof_stat = 22744.55 > 9.49 ; the candidate probabilities do not fit the data.\n"
          ]
        }
      ]
    },
    {
      "cell_type": "markdown",
      "source": [
        "### c) Consider one continuous variable in the dataset and apply test of mean for a proposed candidate of μ at the significant level alpha=0.05."
      ],
      "metadata": {
        "id": "1BohItr4bJwL"
      }
    },
    {
      "cell_type": "markdown",
      "source": [
        "The one-sample T-test checks whether the mean price of diamonds is significantly different from a proposed value (𝜇 =4000).\n",
        "\n",
        "Null Hypothesis (Hₒ): The mean price of diamonds is 4000 (𝜇 = 4000).\n",
        "\n",
        "Alternative Hypothesis (Hₐ): The mean price of diamonds is not 4000 (𝜇 ≠ 4000)"
      ],
      "metadata": {
        "id": "ukM_khq-cdpX"
      }
    },
    {
      "cell_type": "code",
      "source": [
        "candidate_mean = 4000\n",
        "t_test_result = t.test(diamonds$price, mu = candidate_mean)\n",
        "\n",
        "t_stat = t_test_result$statistic\n",
        "df = t_test_result$parameter\n",
        "critical_value = qt(0.975, df)\n",
        "\n",
        "cat(\"T-statistic:\", round(t_stat, 2),\n",
        "    \"\\nDegrees of Freedom:\", df,\n",
        "    \"\\nCritical Value (alpha = 0.05):\", round(critical_value, 2), \"\\n\\n\")\n",
        "\n",
        "if (abs(t_stat) > critical_value) {\n",
        "  cat(\"Reject H₀: |t_stat| =\", round(abs(t_stat), 2),\n",
        "      \">\", round(critical_value, 2),\n",
        "      \"; significant evidence that the mean is not\", candidate_mean, \"\\n\")\n",
        "} else {\n",
        "  cat(\"Fail to reject H₀: |t_stat| =\", round(abs(t_stat), 2),\n",
        "      \"<=\", round(critical_value, 2),\n",
        "      \"; insufficient evidence to conclude the mean differs from\",\n",
        "      candidate_mean, \"\\n\")\n",
        "}"
      ],
      "metadata": {
        "colab": {
          "base_uri": "https://localhost:8080/"
        },
        "id": "_SKd6Y6ebKSM",
        "outputId": "c85e0a3e-64e6-4254-b7a0-9d463eff21dd"
      },
      "execution_count": 23,
      "outputs": [
        {
          "output_type": "stream",
          "name": "stdout",
          "text": [
            "T-statistic: -3.91 \n",
            "Degrees of Freedom: 53939 \n",
            "Critical Value (alpha = 0.05): 1.96 \n",
            "\n",
            "Reject H₀: |t_stat| = 3.91 > 1.96 ; significant evidence that the mean is not 4000 \n"
          ]
        }
      ]
    }
  ]
}